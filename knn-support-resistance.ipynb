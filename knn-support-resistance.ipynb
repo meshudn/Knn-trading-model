{
 "cells": [
  {
   "cell_type": "code",
   "outputs": [
    {
     "name": "stdout",
     "output_type": "stream",
     "text": [
      "Requirement already satisfied: backtesting in /Users/meshu/Desktop/tensorflow-test/env/lib/python3.8/site-packages (0.3.3)\r\n",
      "Requirement already satisfied: numpy>=1.17.0 in /Users/meshu/Desktop/tensorflow-test/env/lib/python3.8/site-packages (from backtesting) (1.22.3)\r\n",
      "Requirement already satisfied: pandas!=0.25.0,>=0.25.0 in /Users/meshu/Desktop/tensorflow-test/env/lib/python3.8/site-packages (from backtesting) (2.0.3)\r\n",
      "Requirement already satisfied: bokeh>=1.4.0 in /Users/meshu/Desktop/tensorflow-test/env/lib/python3.8/site-packages (from backtesting) (3.1.1)\r\n",
      "Requirement already satisfied: Jinja2>=2.9 in /Users/meshu/Desktop/tensorflow-test/env/lib/python3.8/site-packages (from bokeh>=1.4.0->backtesting) (3.1.2)\r\n",
      "Requirement already satisfied: contourpy>=1 in /Users/meshu/Desktop/tensorflow-test/env/lib/python3.8/site-packages (from bokeh>=1.4.0->backtesting) (1.0.5)\r\n",
      "Requirement already satisfied: packaging>=16.8 in /Users/meshu/Desktop/tensorflow-test/env/lib/python3.8/site-packages (from bokeh>=1.4.0->backtesting) (23.1)\r\n",
      "Requirement already satisfied: pillow>=7.1.0 in /Users/meshu/Desktop/tensorflow-test/env/lib/python3.8/site-packages (from bokeh>=1.4.0->backtesting) (10.0.1)\r\n",
      "Requirement already satisfied: PyYAML>=3.10 in /Users/meshu/Desktop/tensorflow-test/env/lib/python3.8/site-packages (from bokeh>=1.4.0->backtesting) (6.0)\r\n",
      "Requirement already satisfied: tornado>=5.1 in /Users/meshu/Desktop/tensorflow-test/env/lib/python3.8/site-packages (from bokeh>=1.4.0->backtesting) (6.3.3)\r\n",
      "Requirement already satisfied: xyzservices>=2021.09.1 in /Users/meshu/Desktop/tensorflow-test/env/lib/python3.8/site-packages (from bokeh>=1.4.0->backtesting) (2024.4.0)\r\n",
      "Requirement already satisfied: python-dateutil>=2.8.2 in /Users/meshu/Desktop/tensorflow-test/env/lib/python3.8/site-packages (from pandas!=0.25.0,>=0.25.0->backtesting) (2.8.2)\r\n",
      "Requirement already satisfied: pytz>=2020.1 in /Users/meshu/Desktop/tensorflow-test/env/lib/python3.8/site-packages (from pandas!=0.25.0,>=0.25.0->backtesting) (2023.3.post1)\r\n",
      "Requirement already satisfied: tzdata>=2022.1 in /Users/meshu/Desktop/tensorflow-test/env/lib/python3.8/site-packages (from pandas!=0.25.0,>=0.25.0->backtesting) (2023.3)\r\n",
      "Requirement already satisfied: MarkupSafe>=2.0 in /Users/meshu/Desktop/tensorflow-test/env/lib/python3.8/site-packages (from Jinja2>=2.9->bokeh>=1.4.0->backtesting) (2.1.1)\r\n",
      "Requirement already satisfied: six>=1.5 in /Users/meshu/Desktop/tensorflow-test/env/lib/python3.8/site-packages (from python-dateutil>=2.8.2->pandas!=0.25.0,>=0.25.0->backtesting) (1.16.0)\r\n"
     ]
    },
    {
     "name": "stderr",
     "output_type": "stream",
     "text": [
      "/Users/meshu/Desktop/tensorflow-test/env/lib/python3.8/site-packages/backtesting/_plotting.py:50: UserWarning: Jupyter Notebook detected. Setting Bokeh output to notebook. This may not work in Jupyter clients without JavaScript support (e.g. PyCharm, Spyder IDE). Reset with `backtesting.set_bokeh_output(notebook=False)`.\n",
      "  warnings.warn('Jupyter Notebook detected. '\n"
     ]
    },
    {
     "data": {
      "text/html": "<style>\n        .bk-notebook-logo {\n            display: block;\n            width: 20px;\n            height: 20px;\n            background-image: url(data:image/png;base64,iVBORw0KGgoAAAANSUhEUgAAABQAAAAUCAYAAACNiR0NAAAABHNCSVQICAgIfAhkiAAAAAlwSFlzAAALEgAACxIB0t1+/AAAABx0RVh0U29mdHdhcmUAQWRvYmUgRmlyZXdvcmtzIENTNui8sowAAAOkSURBVDiNjZRtaJVlGMd/1/08zzln5zjP1LWcU9N0NkN8m2CYjpgQYQXqSs0I84OLIC0hkEKoPtiH3gmKoiJDU7QpLgoLjLIQCpEsNJ1vqUOdO7ppbuec5+V+rj4ctwzd8IIbbi6u+8f1539dt3A78eXC7QizUF7gyV1fD1Yqg4JWz84yffhm0qkFqBogB9rM8tZdtwVsPUhWhGcFJngGeWrPzHm5oaMmkfEg1usvLFyc8jLRqDOMru7AyC8saQr7GG7f5fvDeH7Ej8CM66nIF+8yngt6HWaKh7k49Soy9nXurCi1o3qUbS3zWfrYeQDTB/Qj6kX6Ybhw4B+bOYoLKCC9H3Nu/leUTZ1JdRWkkn2ldcCamzrcf47KKXdAJllSlxAOkRgyHsGC/zRday5Qld9DyoM4/q/rUoy/CXh3jzOu3bHUVZeU+DEn8FInkPBFlu3+nW3Nw0mk6vCDiWg8CeJaxEwuHS3+z5RgY+YBR6V1Z1nxSOfoaPa4LASWxxdNp+VWTk7+4vzaou8v8PN+xo+KY2xsw6une2frhw05CTYOmQvsEhjhWjn0bmXPjpE1+kplmmkP3suftwTubK9Vq22qKmrBhpY4jvd5afdRA3wGjFAgcnTK2s4hY0/GPNIb0nErGMCRxWOOX64Z8RAC4oCXdklmEvcL8o0BfkNK4lUg9HTl+oPlQxdNo3Mg4Nv175e/1LDGzZen30MEjRUtmXSfiTVu1kK8W4txyV6BMKlbgk3lMwYCiusNy9fVfvvwMxv8Ynl6vxoByANLTWplvuj/nF9m2+PDtt1eiHPBr1oIfhCChQMBw6Aw0UulqTKZdfVvfG7VcfIqLG9bcldL/+pdWTLxLUy8Qq38heUIjh4XlzZxzQm19lLFlr8vdQ97rjZVOLf8nclzckbcD4wxXMidpX30sFd37Fv/GtwwhzhxGVAprjbg0gCAEeIgwCZyTV2Z1REEW8O4py0wsjeloKoMr6iCY6dP92H6Vw/oTyICIthibxjm/DfN9lVz8IqtqKYLUXfoKVMVQVVJOElGjrnnUt9T9wbgp8AyYKaGlqingHZU/uG2NTZSVqwHQTWkx9hxjkpWDaCg6Ckj5qebgBVbT3V3NNXMSiWSDdGV3hrtzla7J+duwPOToIg42ChPQOQjspnSlp1V+Gjdged7+8UN5CRAV7a5EdFNwCjEaBR27b3W890TE7g24NAP/mMDXRWrGoFPQI9ls/MWO2dWFAar/xcOIImbbpA3zgAAAABJRU5ErkJggg==);\n        }\n    </style>\n    <div>\n        <a href=\"https://bokeh.org\" target=\"_blank\" class=\"bk-notebook-logo\"></a>\n        <span id=\"d77e8f33-2596-428c-8db1-2bf9592edc06\">Loading BokehJS ...</span>\n    </div>\n"
     },
     "metadata": {},
     "output_type": "display_data"
    },
    {
     "data": {
      "application/javascript": "(function(root) {\n  function now() {\n    return new Date();\n  }\n\n  const force = true;\n\n  if (typeof root._bokeh_onload_callbacks === \"undefined\" || force === true) {\n    root._bokeh_onload_callbacks = [];\n    root._bokeh_is_loading = undefined;\n  }\n\nconst JS_MIME_TYPE = 'application/javascript';\n  const HTML_MIME_TYPE = 'text/html';\n  const EXEC_MIME_TYPE = 'application/vnd.bokehjs_exec.v0+json';\n  const CLASS_NAME = 'output_bokeh rendered_html';\n\n  /**\n   * Render data to the DOM node\n   */\n  function render(props, node) {\n    const script = document.createElement(\"script\");\n    node.appendChild(script);\n  }\n\n  /**\n   * Handle when an output is cleared or removed\n   */\n  function handleClearOutput(event, handle) {\n    const cell = handle.cell;\n\n    const id = cell.output_area._bokeh_element_id;\n    const server_id = cell.output_area._bokeh_server_id;\n    // Clean up Bokeh references\n    if (id != null && id in Bokeh.index) {\n      Bokeh.index[id].model.document.clear();\n      delete Bokeh.index[id];\n    }\n\n    if (server_id !== undefined) {\n      // Clean up Bokeh references\n      const cmd_clean = \"from bokeh.io.state import curstate; print(curstate().uuid_to_server['\" + server_id + \"'].get_sessions()[0].document.roots[0]._id)\";\n      cell.notebook.kernel.execute(cmd_clean, {\n        iopub: {\n          output: function(msg) {\n            const id = msg.content.text.trim();\n            if (id in Bokeh.index) {\n              Bokeh.index[id].model.document.clear();\n              delete Bokeh.index[id];\n            }\n          }\n        }\n      });\n      // Destroy server and session\n      const cmd_destroy = \"import bokeh.io.notebook as ion; ion.destroy_server('\" + server_id + \"')\";\n      cell.notebook.kernel.execute(cmd_destroy);\n    }\n  }\n\n  /**\n   * Handle when a new output is added\n   */\n  function handleAddOutput(event, handle) {\n    const output_area = handle.output_area;\n    const output = handle.output;\n\n    // limit handleAddOutput to display_data with EXEC_MIME_TYPE content only\n    if ((output.output_type != \"display_data\") || (!Object.prototype.hasOwnProperty.call(output.data, EXEC_MIME_TYPE))) {\n      return\n    }\n\n    const toinsert = output_area.element.find(\".\" + CLASS_NAME.split(' ')[0]);\n\n    if (output.metadata[EXEC_MIME_TYPE][\"id\"] !== undefined) {\n      toinsert[toinsert.length - 1].firstChild.textContent = output.data[JS_MIME_TYPE];\n      // store reference to embed id on output_area\n      output_area._bokeh_element_id = output.metadata[EXEC_MIME_TYPE][\"id\"];\n    }\n    if (output.metadata[EXEC_MIME_TYPE][\"server_id\"] !== undefined) {\n      const bk_div = document.createElement(\"div\");\n      bk_div.innerHTML = output.data[HTML_MIME_TYPE];\n      const script_attrs = bk_div.children[0].attributes;\n      for (let i = 0; i < script_attrs.length; i++) {\n        toinsert[toinsert.length - 1].firstChild.setAttribute(script_attrs[i].name, script_attrs[i].value);\n        toinsert[toinsert.length - 1].firstChild.textContent = bk_div.children[0].textContent\n      }\n      // store reference to server id on output_area\n      output_area._bokeh_server_id = output.metadata[EXEC_MIME_TYPE][\"server_id\"];\n    }\n  }\n\n  function register_renderer(events, OutputArea) {\n\n    function append_mime(data, metadata, element) {\n      // create a DOM node to render to\n      const toinsert = this.create_output_subarea(\n        metadata,\n        CLASS_NAME,\n        EXEC_MIME_TYPE\n      );\n      this.keyboard_manager.register_events(toinsert);\n      // Render to node\n      const props = {data: data, metadata: metadata[EXEC_MIME_TYPE]};\n      render(props, toinsert[toinsert.length - 1]);\n      element.append(toinsert);\n      return toinsert\n    }\n\n    /* Handle when an output is cleared or removed */\n    events.on('clear_output.CodeCell', handleClearOutput);\n    events.on('delete.Cell', handleClearOutput);\n\n    /* Handle when a new output is added */\n    events.on('output_added.OutputArea', handleAddOutput);\n\n    /**\n     * Register the mime type and append_mime function with output_area\n     */\n    OutputArea.prototype.register_mime_type(EXEC_MIME_TYPE, append_mime, {\n      /* Is output safe? */\n      safe: true,\n      /* Index of renderer in `output_area.display_order` */\n      index: 0\n    });\n  }\n\n  // register the mime type if in Jupyter Notebook environment and previously unregistered\n  if (root.Jupyter !== undefined) {\n    const events = require('base/js/events');\n    const OutputArea = require('notebook/js/outputarea').OutputArea;\n\n    if (OutputArea.prototype.mime_types().indexOf(EXEC_MIME_TYPE) == -1) {\n      register_renderer(events, OutputArea);\n    }\n  }\n  if (typeof (root._bokeh_timeout) === \"undefined\" || force === true) {\n    root._bokeh_timeout = Date.now() + 5000;\n    root._bokeh_failed_load = false;\n  }\n\n  const NB_LOAD_WARNING = {'data': {'text/html':\n     \"<div style='background-color: #fdd'>\\n\"+\n     \"<p>\\n\"+\n     \"BokehJS does not appear to have successfully loaded. If loading BokehJS from CDN, this \\n\"+\n     \"may be due to a slow or bad network connection. Possible fixes:\\n\"+\n     \"</p>\\n\"+\n     \"<ul>\\n\"+\n     \"<li>re-rerun `output_notebook()` to attempt to load from CDN again, or</li>\\n\"+\n     \"<li>use INLINE resources instead, as so:</li>\\n\"+\n     \"</ul>\\n\"+\n     \"<code>\\n\"+\n     \"from bokeh.resources import INLINE\\n\"+\n     \"output_notebook(resources=INLINE)\\n\"+\n     \"</code>\\n\"+\n     \"</div>\"}};\n\n  function display_loaded() {\n    const el = document.getElementById(\"d77e8f33-2596-428c-8db1-2bf9592edc06\");\n    if (el != null) {\n      el.textContent = \"BokehJS is loading...\";\n    }\n    if (root.Bokeh !== undefined) {\n      if (el != null) {\n        el.textContent = \"BokehJS \" + root.Bokeh.version + \" successfully loaded.\";\n      }\n    } else if (Date.now() < root._bokeh_timeout) {\n      setTimeout(display_loaded, 100)\n    }\n  }\n\n  function run_callbacks() {\n    try {\n      root._bokeh_onload_callbacks.forEach(function(callback) {\n        if (callback != null)\n          callback();\n      });\n    } finally {\n      delete root._bokeh_onload_callbacks\n    }\n    console.debug(\"Bokeh: all callbacks have finished\");\n  }\n\n  function load_libs(css_urls, js_urls, callback) {\n    if (css_urls == null) css_urls = [];\n    if (js_urls == null) js_urls = [];\n\n    root._bokeh_onload_callbacks.push(callback);\n    if (root._bokeh_is_loading > 0) {\n      console.debug(\"Bokeh: BokehJS is being loaded, scheduling callback at\", now());\n      return null;\n    }\n    if (js_urls == null || js_urls.length === 0) {\n      run_callbacks();\n      return null;\n    }\n    console.debug(\"Bokeh: BokehJS not loaded, scheduling load and callback at\", now());\n    root._bokeh_is_loading = css_urls.length + js_urls.length;\n\n    function on_load() {\n      root._bokeh_is_loading--;\n      if (root._bokeh_is_loading === 0) {\n        console.debug(\"Bokeh: all BokehJS libraries/stylesheets loaded\");\n        run_callbacks()\n      }\n    }\n\n    function on_error(url) {\n      console.error(\"failed to load \" + url);\n    }\n\n    for (let i = 0; i < css_urls.length; i++) {\n      const url = css_urls[i];\n      const element = document.createElement(\"link\");\n      element.onload = on_load;\n      element.onerror = on_error.bind(null, url);\n      element.rel = \"stylesheet\";\n      element.type = \"text/css\";\n      element.href = url;\n      console.debug(\"Bokeh: injecting link tag for BokehJS stylesheet: \", url);\n      document.body.appendChild(element);\n    }\n\n    for (let i = 0; i < js_urls.length; i++) {\n      const url = js_urls[i];\n      const element = document.createElement('script');\n      element.onload = on_load;\n      element.onerror = on_error.bind(null, url);\n      element.async = false;\n      element.src = url;\n      console.debug(\"Bokeh: injecting script tag for BokehJS library: \", url);\n      document.head.appendChild(element);\n    }\n  };\n\n  function inject_raw_css(css) {\n    const element = document.createElement(\"style\");\n    element.appendChild(document.createTextNode(css));\n    document.body.appendChild(element);\n  }\n\n  const js_urls = [\"https://cdn.bokeh.org/bokeh/release/bokeh-3.1.1.min.js\", \"https://cdn.bokeh.org/bokeh/release/bokeh-gl-3.1.1.min.js\", \"https://cdn.bokeh.org/bokeh/release/bokeh-widgets-3.1.1.min.js\", \"https://cdn.bokeh.org/bokeh/release/bokeh-tables-3.1.1.min.js\", \"https://cdn.bokeh.org/bokeh/release/bokeh-mathjax-3.1.1.min.js\"];\n  const css_urls = [];\n\n  const inline_js = [    function(Bokeh) {\n      Bokeh.set_log_level(\"info\");\n    },\nfunction(Bokeh) {\n    }\n  ];\n\n  function run_inline_js() {\n    if (root.Bokeh !== undefined || force === true) {\n          for (let i = 0; i < inline_js.length; i++) {\n      inline_js[i].call(root, root.Bokeh);\n    }\nif (force === true) {\n        display_loaded();\n      }} else if (Date.now() < root._bokeh_timeout) {\n      setTimeout(run_inline_js, 100);\n    } else if (!root._bokeh_failed_load) {\n      console.log(\"Bokeh: BokehJS failed to load within specified timeout.\");\n      root._bokeh_failed_load = true;\n    } else if (force !== true) {\n      const cell = $(document.getElementById(\"d77e8f33-2596-428c-8db1-2bf9592edc06\")).parents('.cell').data().cell;\n      cell.output_area.append_execute_result(NB_LOAD_WARNING)\n    }\n  }\n\n  if (root._bokeh_is_loading === 0) {\n    console.debug(\"Bokeh: BokehJS loaded, going straight to plotting\");\n    run_inline_js();\n  } else {\n    load_libs(css_urls, js_urls, function() {\n      console.debug(\"Bokeh: BokehJS plotting callback run at\", now());\n      run_inline_js();\n    });\n  }\n}(window));",
      "application/vnd.bokehjs_load.v0+json": "(function(root) {\n  function now() {\n    return new Date();\n  }\n\n  const force = true;\n\n  if (typeof root._bokeh_onload_callbacks === \"undefined\" || force === true) {\n    root._bokeh_onload_callbacks = [];\n    root._bokeh_is_loading = undefined;\n  }\n\n\n  if (typeof (root._bokeh_timeout) === \"undefined\" || force === true) {\n    root._bokeh_timeout = Date.now() + 5000;\n    root._bokeh_failed_load = false;\n  }\n\n  const NB_LOAD_WARNING = {'data': {'text/html':\n     \"<div style='background-color: #fdd'>\\n\"+\n     \"<p>\\n\"+\n     \"BokehJS does not appear to have successfully loaded. If loading BokehJS from CDN, this \\n\"+\n     \"may be due to a slow or bad network connection. Possible fixes:\\n\"+\n     \"</p>\\n\"+\n     \"<ul>\\n\"+\n     \"<li>re-rerun `output_notebook()` to attempt to load from CDN again, or</li>\\n\"+\n     \"<li>use INLINE resources instead, as so:</li>\\n\"+\n     \"</ul>\\n\"+\n     \"<code>\\n\"+\n     \"from bokeh.resources import INLINE\\n\"+\n     \"output_notebook(resources=INLINE)\\n\"+\n     \"</code>\\n\"+\n     \"</div>\"}};\n\n  function display_loaded() {\n    const el = document.getElementById(\"d77e8f33-2596-428c-8db1-2bf9592edc06\");\n    if (el != null) {\n      el.textContent = \"BokehJS is loading...\";\n    }\n    if (root.Bokeh !== undefined) {\n      if (el != null) {\n        el.textContent = \"BokehJS \" + root.Bokeh.version + \" successfully loaded.\";\n      }\n    } else if (Date.now() < root._bokeh_timeout) {\n      setTimeout(display_loaded, 100)\n    }\n  }\n\n  function run_callbacks() {\n    try {\n      root._bokeh_onload_callbacks.forEach(function(callback) {\n        if (callback != null)\n          callback();\n      });\n    } finally {\n      delete root._bokeh_onload_callbacks\n    }\n    console.debug(\"Bokeh: all callbacks have finished\");\n  }\n\n  function load_libs(css_urls, js_urls, callback) {\n    if (css_urls == null) css_urls = [];\n    if (js_urls == null) js_urls = [];\n\n    root._bokeh_onload_callbacks.push(callback);\n    if (root._bokeh_is_loading > 0) {\n      console.debug(\"Bokeh: BokehJS is being loaded, scheduling callback at\", now());\n      return null;\n    }\n    if (js_urls == null || js_urls.length === 0) {\n      run_callbacks();\n      return null;\n    }\n    console.debug(\"Bokeh: BokehJS not loaded, scheduling load and callback at\", now());\n    root._bokeh_is_loading = css_urls.length + js_urls.length;\n\n    function on_load() {\n      root._bokeh_is_loading--;\n      if (root._bokeh_is_loading === 0) {\n        console.debug(\"Bokeh: all BokehJS libraries/stylesheets loaded\");\n        run_callbacks()\n      }\n    }\n\n    function on_error(url) {\n      console.error(\"failed to load \" + url);\n    }\n\n    for (let i = 0; i < css_urls.length; i++) {\n      const url = css_urls[i];\n      const element = document.createElement(\"link\");\n      element.onload = on_load;\n      element.onerror = on_error.bind(null, url);\n      element.rel = \"stylesheet\";\n      element.type = \"text/css\";\n      element.href = url;\n      console.debug(\"Bokeh: injecting link tag for BokehJS stylesheet: \", url);\n      document.body.appendChild(element);\n    }\n\n    for (let i = 0; i < js_urls.length; i++) {\n      const url = js_urls[i];\n      const element = document.createElement('script');\n      element.onload = on_load;\n      element.onerror = on_error.bind(null, url);\n      element.async = false;\n      element.src = url;\n      console.debug(\"Bokeh: injecting script tag for BokehJS library: \", url);\n      document.head.appendChild(element);\n    }\n  };\n\n  function inject_raw_css(css) {\n    const element = document.createElement(\"style\");\n    element.appendChild(document.createTextNode(css));\n    document.body.appendChild(element);\n  }\n\n  const js_urls = [\"https://cdn.bokeh.org/bokeh/release/bokeh-3.1.1.min.js\", \"https://cdn.bokeh.org/bokeh/release/bokeh-gl-3.1.1.min.js\", \"https://cdn.bokeh.org/bokeh/release/bokeh-widgets-3.1.1.min.js\", \"https://cdn.bokeh.org/bokeh/release/bokeh-tables-3.1.1.min.js\", \"https://cdn.bokeh.org/bokeh/release/bokeh-mathjax-3.1.1.min.js\"];\n  const css_urls = [];\n\n  const inline_js = [    function(Bokeh) {\n      Bokeh.set_log_level(\"info\");\n    },\nfunction(Bokeh) {\n    }\n  ];\n\n  function run_inline_js() {\n    if (root.Bokeh !== undefined || force === true) {\n          for (let i = 0; i < inline_js.length; i++) {\n      inline_js[i].call(root, root.Bokeh);\n    }\nif (force === true) {\n        display_loaded();\n      }} else if (Date.now() < root._bokeh_timeout) {\n      setTimeout(run_inline_js, 100);\n    } else if (!root._bokeh_failed_load) {\n      console.log(\"Bokeh: BokehJS failed to load within specified timeout.\");\n      root._bokeh_failed_load = true;\n    } else if (force !== true) {\n      const cell = $(document.getElementById(\"d77e8f33-2596-428c-8db1-2bf9592edc06\")).parents('.cell').data().cell;\n      cell.output_area.append_execute_result(NB_LOAD_WARNING)\n    }\n  }\n\n  if (root._bokeh_is_loading === 0) {\n    console.debug(\"Bokeh: BokehJS loaded, going straight to plotting\");\n    run_inline_js();\n  } else {\n    load_libs(css_urls, js_urls, function() {\n      console.debug(\"Bokeh: BokehJS plotting callback run at\", now());\n      run_inline_js();\n    });\n  }\n}(window));"
     },
     "metadata": {},
     "output_type": "display_data"
    },
    {
     "name": "stderr",
     "output_type": "stream",
     "text": [
      "/Users/meshu/Desktop/tensorflow-test/env/lib/python3.8/site-packages/backtesting/test/__init__.py:8: FutureWarning: The argument 'infer_datetime_format' is deprecated and will be removed in a future version. A strict version of it is now the default, see https://pandas.pydata.org/pdeps/0004-consistent-to-datetime-parsing.html. You can safely remove this argument.\n",
      "  return pd.read_csv(join(dirname(__file__), filename),\n",
      "/Users/meshu/Desktop/tensorflow-test/env/lib/python3.8/site-packages/backtesting/test/__init__.py:8: FutureWarning: The argument 'infer_datetime_format' is deprecated and will be removed in a future version. A strict version of it is now the default, see https://pandas.pydata.org/pdeps/0004-consistent-to-datetime-parsing.html. You can safely remove this argument.\n",
      "  return pd.read_csv(join(dirname(__file__), filename),\n"
     ]
    }
   ],
   "source": [
    "!pip install backtesting\n",
    "from backtesting.test import EURUSD, SMA, GOOG"
   ],
   "metadata": {
    "collapsed": false,
    "ExecuteTime": {
     "end_time": "2024-06-08T01:29:27.355020Z",
     "start_time": "2024-06-08T01:29:25.196014Z"
    }
   },
   "id": "9d166f2e61089651",
   "execution_count": 1
  },
  {
   "cell_type": "code",
   "outputs": [
    {
     "name": "stdout",
     "output_type": "stream",
     "text": [
      "Requirement already satisfied: pandas_ta in /Users/meshu/Desktop/tensorflow-test/env/lib/python3.8/site-packages (0.3.14b0)\r\n",
      "Requirement already satisfied: pandas in /Users/meshu/Desktop/tensorflow-test/env/lib/python3.8/site-packages (from pandas_ta) (2.0.3)\r\n",
      "Requirement already satisfied: python-dateutil>=2.8.2 in /Users/meshu/Desktop/tensorflow-test/env/lib/python3.8/site-packages (from pandas->pandas_ta) (2.8.2)\r\n",
      "Requirement already satisfied: pytz>=2020.1 in /Users/meshu/Desktop/tensorflow-test/env/lib/python3.8/site-packages (from pandas->pandas_ta) (2023.3.post1)\r\n",
      "Requirement already satisfied: tzdata>=2022.1 in /Users/meshu/Desktop/tensorflow-test/env/lib/python3.8/site-packages (from pandas->pandas_ta) (2023.3)\r\n",
      "Requirement already satisfied: numpy>=1.20.3 in /Users/meshu/Desktop/tensorflow-test/env/lib/python3.8/site-packages (from pandas->pandas_ta) (1.22.3)\r\n",
      "Requirement already satisfied: six>=1.5 in /Users/meshu/Desktop/tensorflow-test/env/lib/python3.8/site-packages (from python-dateutil>=2.8.2->pandas->pandas_ta) (1.16.0)\r\n"
     ]
    }
   ],
   "source": [
    "import scipy\n",
    "from sklearn.preprocessing import StandardScaler\n",
    "import pandas as pd\n",
    "import pandas_ta as ta\n",
    "import yfinance as yahooFinance\n",
    "import datetime\n",
    "!pip install pandas_ta\n",
    "import pandas_ta as ta"
   ],
   "metadata": {
    "collapsed": false,
    "ExecuteTime": {
     "end_time": "2024-06-08T01:33:45.181352Z",
     "start_time": "2024-06-08T01:33:44.049095Z"
    }
   },
   "id": "2fca8cbd69883047",
   "execution_count": 6
  },
  {
   "cell_type": "code",
   "outputs": [],
   "source": [
    "GetFacebookInformation = yahooFinance.Ticker(\"META\")\n",
    "startDate = datetime.datetime(2012, 5, 31)\n",
    "\n",
    "# endDate , as per our convenience we can modify\n",
    "endDate = datetime.datetime(2024, 4, 30)\n",
    "data = GetFacebookInformation.history(start=startDate,\n",
    "                                     end=endDate)"
   ],
   "metadata": {
    "collapsed": false,
    "ExecuteTime": {
     "end_time": "2024-06-08T01:30:11.972398Z",
     "start_time": "2024-06-08T01:30:11.718712Z"
    }
   },
   "id": "12e49b796b47298a",
   "execution_count": 4
  },
  {
   "cell_type": "code",
   "outputs": [
    {
     "data": {
      "text/plain": "                                 Open        High         Low       Close  \\\nDate                                                                        \n2012-05-31 00:00:00-04:00   28.519740   29.638554   26.801564   29.568628   \n2012-06-01 00:00:00-04:00   28.859378   29.119103   27.360968   27.690619   \n2012-06-04 00:00:00-04:00   27.171172   27.620694   26.411977   26.871489   \n2012-06-05 00:00:00-04:00   26.671701   27.730577   25.722707   25.842581   \n2012-06-06 00:00:00-04:00   26.042368   27.141203   25.492952   26.781584   \n...                               ...         ...         ...         ...   \n2024-04-23 00:00:00-04:00  491.250000  498.760010  488.970001  496.100006   \n2024-04-24 00:00:00-04:00  508.059998  510.000000  484.579987  493.500000   \n2024-04-25 00:00:00-04:00  421.399994  445.769989  414.500000  441.380005   \n2024-04-26 00:00:00-04:00  441.459991  446.440002  431.959991  443.290009   \n2024-04-29 00:00:00-04:00  439.559998  439.760010  428.559998  432.619995   \n\n                              Volume  Dividends  Stock Splits  \nDate                                                           \n2012-05-31 00:00:00-04:00  111639200        0.0           0.0  \n2012-06-01 00:00:00-04:00   41855500        0.0           0.0  \n2012-06-04 00:00:00-04:00   35230300        0.0           0.0  \n2012-06-05 00:00:00-04:00   42473400        0.0           0.0  \n2012-06-06 00:00:00-04:00   61489200        0.0           0.0  \n...                              ...        ...           ...  \n2024-04-23 00:00:00-04:00   15079200        0.0           0.0  \n2024-04-24 00:00:00-04:00   37772700        0.0           0.0  \n2024-04-25 00:00:00-04:00   82890700        0.0           0.0  \n2024-04-26 00:00:00-04:00   32691400        0.0           0.0  \n2024-04-29 00:00:00-04:00   21502600        0.0           0.0  \n\n[2997 rows x 7 columns]",
      "text/html": "<div>\n<style scoped>\n    .dataframe tbody tr th:only-of-type {\n        vertical-align: middle;\n    }\n\n    .dataframe tbody tr th {\n        vertical-align: top;\n    }\n\n    .dataframe thead th {\n        text-align: right;\n    }\n</style>\n<table border=\"1\" class=\"dataframe\">\n  <thead>\n    <tr style=\"text-align: right;\">\n      <th></th>\n      <th>Open</th>\n      <th>High</th>\n      <th>Low</th>\n      <th>Close</th>\n      <th>Volume</th>\n      <th>Dividends</th>\n      <th>Stock Splits</th>\n    </tr>\n    <tr>\n      <th>Date</th>\n      <th></th>\n      <th></th>\n      <th></th>\n      <th></th>\n      <th></th>\n      <th></th>\n      <th></th>\n    </tr>\n  </thead>\n  <tbody>\n    <tr>\n      <th>2012-05-31 00:00:00-04:00</th>\n      <td>28.519740</td>\n      <td>29.638554</td>\n      <td>26.801564</td>\n      <td>29.568628</td>\n      <td>111639200</td>\n      <td>0.0</td>\n      <td>0.0</td>\n    </tr>\n    <tr>\n      <th>2012-06-01 00:00:00-04:00</th>\n      <td>28.859378</td>\n      <td>29.119103</td>\n      <td>27.360968</td>\n      <td>27.690619</td>\n      <td>41855500</td>\n      <td>0.0</td>\n      <td>0.0</td>\n    </tr>\n    <tr>\n      <th>2012-06-04 00:00:00-04:00</th>\n      <td>27.171172</td>\n      <td>27.620694</td>\n      <td>26.411977</td>\n      <td>26.871489</td>\n      <td>35230300</td>\n      <td>0.0</td>\n      <td>0.0</td>\n    </tr>\n    <tr>\n      <th>2012-06-05 00:00:00-04:00</th>\n      <td>26.671701</td>\n      <td>27.730577</td>\n      <td>25.722707</td>\n      <td>25.842581</td>\n      <td>42473400</td>\n      <td>0.0</td>\n      <td>0.0</td>\n    </tr>\n    <tr>\n      <th>2012-06-06 00:00:00-04:00</th>\n      <td>26.042368</td>\n      <td>27.141203</td>\n      <td>25.492952</td>\n      <td>26.781584</td>\n      <td>61489200</td>\n      <td>0.0</td>\n      <td>0.0</td>\n    </tr>\n    <tr>\n      <th>...</th>\n      <td>...</td>\n      <td>...</td>\n      <td>...</td>\n      <td>...</td>\n      <td>...</td>\n      <td>...</td>\n      <td>...</td>\n    </tr>\n    <tr>\n      <th>2024-04-23 00:00:00-04:00</th>\n      <td>491.250000</td>\n      <td>498.760010</td>\n      <td>488.970001</td>\n      <td>496.100006</td>\n      <td>15079200</td>\n      <td>0.0</td>\n      <td>0.0</td>\n    </tr>\n    <tr>\n      <th>2024-04-24 00:00:00-04:00</th>\n      <td>508.059998</td>\n      <td>510.000000</td>\n      <td>484.579987</td>\n      <td>493.500000</td>\n      <td>37772700</td>\n      <td>0.0</td>\n      <td>0.0</td>\n    </tr>\n    <tr>\n      <th>2024-04-25 00:00:00-04:00</th>\n      <td>421.399994</td>\n      <td>445.769989</td>\n      <td>414.500000</td>\n      <td>441.380005</td>\n      <td>82890700</td>\n      <td>0.0</td>\n      <td>0.0</td>\n    </tr>\n    <tr>\n      <th>2024-04-26 00:00:00-04:00</th>\n      <td>441.459991</td>\n      <td>446.440002</td>\n      <td>431.959991</td>\n      <td>443.290009</td>\n      <td>32691400</td>\n      <td>0.0</td>\n      <td>0.0</td>\n    </tr>\n    <tr>\n      <th>2024-04-29 00:00:00-04:00</th>\n      <td>439.559998</td>\n      <td>439.760010</td>\n      <td>428.559998</td>\n      <td>432.619995</td>\n      <td>21502600</td>\n      <td>0.0</td>\n      <td>0.0</td>\n    </tr>\n  </tbody>\n</table>\n<p>2997 rows × 7 columns</p>\n</div>"
     },
     "execution_count": 5,
     "metadata": {},
     "output_type": "execute_result"
    }
   ],
   "source": [
    "data"
   ],
   "metadata": {
    "collapsed": false,
    "ExecuteTime": {
     "end_time": "2024-06-08T01:30:17.983419Z",
     "start_time": "2024-06-08T01:30:17.944751Z"
    }
   },
   "id": "32997e102e4a41c",
   "execution_count": 5
  },
  {
   "cell_type": "code",
   "outputs": [],
   "source": [
    "def trendline_breakout_dataset(\n",
    "        ohlcv: pd.DataFrame, lookback: int,\n",
    "        hold_period: int = 12, tp_mult: float = 3.0, sl_mult: float = 3.0,\n",
    "        atr_lookback: int = 168\n",
    "):\n",
    "    assert (atr_lookback >= lookback)\n",
    "\n",
    "    close = np.log(ohlcv['Close'].to_numpy())\n",
    "\n",
    "    # ATR for normalizing, setting stop loss take profit\n",
    "    atr = ta.atr(np.log(ohlcv['High']), np.log(ohlcv['Low']), np.log(ohlcv['Close']), atr_lookback)\n",
    "    atr_arr = atr.to_numpy()\n",
    "\n",
    "    # Normalized volume\n",
    "    vol_arr = (ohlcv['Volume'] / ohlcv['Volume'].rolling(atr_lookback).median()).to_numpy()\n",
    "    adx = ta.adx(ohlcv['High'], ohlcv['Low'], ohlcv['Close'], lookback)\n",
    "    adx_arr = adx['ADX_' + str(lookback)].to_numpy()\n",
    "\n",
    "    trades = pd.DataFrame()\n",
    "    trade_i = 0\n",
    "\n",
    "    in_trade = False\n",
    "    tp_price = None\n",
    "    sl_price = None\n",
    "    hp_i = None\n",
    "    for i in range(atr_lookback, len(ohlcv)):\n",
    "        # NOTE window does NOT include the current candle\n",
    "        window = close[i - lookback: i]\n",
    "\n",
    "        s_coefs, r_coefs = fit_trendlines_single(window)\n",
    "\n",
    "        # Find current value of line\n",
    "        r_val = r_coefs[1] + lookback * r_coefs[0]\n",
    "\n",
    "        # Entry\n",
    "        if not in_trade and close[i] > r_val:\n",
    "            tp_price = close[i] + atr_arr[i] * tp_mult\n",
    "            sl_price = close[i] - atr_arr[i] * sl_mult\n",
    "            hp_i = i + hold_period\n",
    "            in_trade = True\n",
    "\n",
    "            trades.loc[trade_i, 'entry_i'] = i\n",
    "            trades.loc[trade_i, 'entry_p'] = close[i]\n",
    "            trades.loc[trade_i, 'atr'] = atr_arr[i]\n",
    "            trades.loc[trade_i, 'sl'] = sl_price\n",
    "            trades.loc[trade_i, 'tp'] = tp_price\n",
    "            trades.loc[trade_i, 'hp_i'] = i + hold_period\n",
    "\n",
    "            trades.loc[trade_i, 'slope'] = r_coefs[0]\n",
    "            trades.loc[trade_i, 'intercept'] = r_coefs[1]\n",
    "\n",
    "            # Trendline features\n",
    "            # Resist slope\n",
    "            trades.loc[trade_i, 'resist_s'] = r_coefs[0] / atr_arr[i]\n",
    "\n",
    "            # Resist erorr\n",
    "            line_vals = (r_coefs[1] + np.arange(lookback) * r_coefs[0])\n",
    "            err = np.sum(line_vals - window) / lookback\n",
    "            err /= atr_arr[i]\n",
    "            trades.loc[trade_i, 'tl_err'] = err\n",
    "\n",
    "            # Max distance from resist\n",
    "            diff = line_vals - window\n",
    "            trades.loc[trade_i, 'max_dist'] = diff.max() / atr_arr[i]\n",
    "\n",
    "            # Volume on breakout\n",
    "            trades.loc[trade_i, 'vol'] = vol_arr[i]\n",
    "\n",
    "            # ADX\n",
    "            trades.loc[trade_i, 'adx'] = adx_arr[i]\n",
    "\n",
    "        if in_trade:\n",
    "            if close[i] >= tp_price or close[i] <= sl_price or i >= hp_i:\n",
    "                trades.loc[trade_i, 'exit_i'] = i\n",
    "                trades.loc[trade_i, 'exit_p'] = close[i]\n",
    "\n",
    "                in_trade = False\n",
    "                trade_i += 1\n",
    "\n",
    "    trades['return'] = trades['exit_p'] - trades['entry_p']\n",
    "\n",
    "    # Features\n",
    "    data_x = trades[['resist_s', 'tl_err', 'vol', 'max_dist', 'adx']]\n",
    "    # Label\n",
    "    data_y = pd.Series(0, index=trades.index)\n",
    "    data_y.loc[trades['return'] > 0] = 1\n",
    "\n",
    "    return trades, data_x, data_y"
   ],
   "metadata": {
    "collapsed": false,
    "ExecuteTime": {
     "end_time": "2024-06-08T01:34:13.695247Z",
     "start_time": "2024-06-08T01:34:13.692684Z"
    }
   },
   "id": "256c33ece1888e97",
   "execution_count": 7
  },
  {
   "cell_type": "code",
   "outputs": [],
   "source": [
    "def fit_trendlines_single(data: np.array):\n",
    "    # find line of best fit (least squared)\n",
    "    # coefs[0] = slope,  coefs[1] = intercept\n",
    "    x = np.arange(len(data))\n",
    "    coefs = np.polyfit(x, data, 1)\n",
    "\n",
    "    # Get points of line.\n",
    "    line_points = coefs[0] * x + coefs[1]\n",
    "\n",
    "    # Find upper and lower pivot points\n",
    "    upper_pivot = (data - line_points).argmax()\n",
    "    lower_pivot = (data - line_points).argmin()\n",
    "\n",
    "    # Optimize the slope for both trend lines\n",
    "    support_coefs = optimize_slope(True, lower_pivot, coefs[0], data)\n",
    "    resist_coefs = optimize_slope(False, upper_pivot, coefs[0], data)\n",
    "\n",
    "    return (support_coefs, resist_coefs)"
   ],
   "metadata": {
    "collapsed": false
   },
   "id": "9d5f69d57ef3bdad"
  },
  {
   "cell_type": "code",
   "outputs": [],
   "source": [
    "\n",
    "def fit_trendlines_high_low(high: np.array, low: np.array, close: np.array):\n",
    "    x = np.arange(len(close))\n",
    "    coefs = np.polyfit(x, close, 1)\n",
    "    # coefs[0] = slope,  coefs[1] = intercept\n",
    "    line_points = coefs[0] * x + coefs[1]\n",
    "    upper_pivot = (high - line_points).argmax()\n",
    "    lower_pivot = (low - line_points).argmin()\n",
    "\n",
    "    support_coefs = optimize_slope(True, lower_pivot, coefs[0], low)\n",
    "    resist_coefs = optimize_slope(False, upper_pivot, coefs[0], high)\n",
    "\n",
    "    return (support_coefs, resist_coefs)\n",
    "\n"
   ],
   "metadata": {
    "collapsed": false
   },
   "id": "acbd1a55fffb0309"
  },
  {
   "cell_type": "code",
   "outputs": [],
   "source": [
    "\n",
    "def trendline_breakout(close: np.array, lookback: int):\n",
    "    s_tl = np.zeros(len(close))\n",
    "    s_tl[:] = np.nan\n",
    "\n",
    "    r_tl = np.zeros(len(close))\n",
    "    r_tl[:] = np.nan\n",
    "\n",
    "    sig = np.zeros(len(close))\n",
    "\n",
    "    for i in range(lookback, len(close)):\n",
    "        # NOTE window does NOT include the current candle\n",
    "        window = close[i - lookback: i]\n",
    "\n",
    "        s_coefs, r_coefs = fit_trendlines_single(window)\n",
    "\n",
    "        # Find current value of line, projected forward to current bar\n",
    "        s_val = s_coefs[1] + lookback * s_coefs[0]\n",
    "        r_val = r_coefs[1] + lookback * r_coefs[0]\n",
    "\n",
    "        s_tl[i] = s_val\n",
    "        r_tl[i] = r_val\n",
    "\n",
    "        if close[i] > r_val:\n",
    "            sig[i] = 1.0\n",
    "        elif close[i] < s_val:\n",
    "            sig[i] = -1.0\n",
    "        else:\n",
    "            sig[i] = sig[i - 1]\n",
    "\n",
    "    return s_tl, r_tl, sig\n"
   ],
   "metadata": {
    "collapsed": false
   },
   "id": "3b81b3404a889f9a"
  },
  {
   "cell_type": "code",
   "outputs": [],
   "source": [
    "\n",
    "def check_trend_line(support: bool, pivot: int, slope: float, y: np.array):\n",
    "    # compute sum of differences between line and prices,\n",
    "    # return negative val if invalid\n",
    "\n",
    "    # Find the intercept of the line going through pivot point with given slope\n",
    "    intercept = -slope * pivot + y[pivot]\n",
    "    line_vals = slope * np.arange(len(y)) + intercept\n",
    "\n",
    "    diffs = line_vals - y\n",
    "\n",
    "    # Check to see if the line is valid, return -1 if it is not valid.\n",
    "    if support and diffs.max() > 1e-5:\n",
    "        return -1.0\n",
    "    elif not support and diffs.min() < -1e-5:\n",
    "        return -1.0\n",
    "\n",
    "    # Squared sum of diffs between data and line\n",
    "    err = (diffs ** 2.0).sum()\n",
    "    return err\n",
    "\n"
   ],
   "metadata": {
    "collapsed": false
   },
   "id": "4cc132eff525bd5c"
  },
  {
   "cell_type": "code",
   "outputs": [],
   "source": [
    "\n",
    "def optimize_slope(support: bool, pivot: int, init_slope: float, y: np.array):\n",
    "    # Amount to change slope by. Multiplyed by opt_step\n",
    "    slope_unit = (y.max() - y.min()) / len(y)\n",
    "\n",
    "    # Optmization variables\n",
    "    opt_step = 1.0\n",
    "    min_step = 0.0001\n",
    "    curr_step = opt_step  # current step\n",
    "\n",
    "    # Initiate at the slope of the line of best fit\n",
    "    best_slope = init_slope\n",
    "    best_err = check_trend_line(support, pivot, init_slope, y)\n",
    "    assert (best_err >= 0.0)  # Shouldn't ever fail with initial slope\n",
    "\n",
    "    get_derivative = True\n",
    "    derivative = None\n",
    "    while curr_step > min_step:\n",
    "\n",
    "        if get_derivative:\n",
    "            # Numerical differentiation, increase slope by very small amount\n",
    "            # to see if error increases/decreases.\n",
    "            # Gives us the direction to change slope.\n",
    "            slope_change = best_slope + slope_unit * min_step\n",
    "            test_err = check_trend_line(support, pivot, slope_change, y)\n",
    "            derivative = test_err - best_err;\n",
    "\n",
    "            # If increasing by a small amount fails,\n",
    "            # try decreasing by a small amount\n",
    "            if test_err < 0.0:\n",
    "                slope_change = best_slope - slope_unit * min_step\n",
    "                test_err = check_trend_line(support, pivot, slope_change, y)\n",
    "                derivative = best_err - test_err\n",
    "\n",
    "            if test_err < 0.0:  # Derivative failed, give up\n",
    "                raise Exception(\"Derivative failed. Check your data. \")\n",
    "\n",
    "            get_derivative = False\n",
    "\n",
    "        if derivative > 0.0:  # Increasing slope increased error\n",
    "            test_slope = best_slope - slope_unit * curr_step\n",
    "        else:  # Increasing slope decreased error\n",
    "            test_slope = best_slope + slope_unit * curr_step\n",
    "\n",
    "        test_err = check_trend_line(support, pivot, test_slope, y)\n",
    "        if test_err < 0 or test_err >= best_err:\n",
    "            # slope failed/didn't reduce error\n",
    "            curr_step *= 0.5  # Reduce step size\n",
    "        else:  # test slope reduced error\n",
    "            best_err = test_err\n",
    "            best_slope = test_slope\n",
    "            get_derivative = True  # Recompute derivative\n",
    "\n",
    "    # Optimize done, return best slope and intercept\n",
    "    return (best_slope, -best_slope * pivot + y[pivot])\n"
   ],
   "metadata": {
    "collapsed": false
   },
   "id": "9719365184d74a45"
  }
 ],
 "metadata": {
  "kernelspec": {
   "display_name": "Python 3",
   "language": "python",
   "name": "python3"
  },
  "language_info": {
   "codemirror_mode": {
    "name": "ipython",
    "version": 2
   },
   "file_extension": ".py",
   "mimetype": "text/x-python",
   "name": "python",
   "nbconvert_exporter": "python",
   "pygments_lexer": "ipython2",
   "version": "2.7.6"
  }
 },
 "nbformat": 4,
 "nbformat_minor": 5
}
