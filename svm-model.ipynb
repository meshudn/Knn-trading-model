{
 "cells": [
  {
   "cell_type": "code",
   "execution_count": 1,
   "id": "initial_id",
   "metadata": {
    "collapsed": true,
    "ExecuteTime": {
     "end_time": "2024-06-08T01:52:05.039440Z",
     "start_time": "2024-06-08T01:52:02.365013Z"
    }
   },
   "outputs": [
    {
     "name": "stdout",
     "output_type": "stream",
     "text": [
      "Requirement already satisfied: backtesting in /Users/meshu/Desktop/tensorflow-test/env/lib/python3.8/site-packages (0.3.3)\r\n",
      "Requirement already satisfied: numpy>=1.17.0 in /Users/meshu/Desktop/tensorflow-test/env/lib/python3.8/site-packages (from backtesting) (1.22.3)\r\n",
      "Requirement already satisfied: pandas!=0.25.0,>=0.25.0 in /Users/meshu/Desktop/tensorflow-test/env/lib/python3.8/site-packages (from backtesting) (2.0.3)\r\n",
      "Requirement already satisfied: bokeh>=1.4.0 in /Users/meshu/Desktop/tensorflow-test/env/lib/python3.8/site-packages (from backtesting) (3.1.1)\r\n",
      "Requirement already satisfied: Jinja2>=2.9 in /Users/meshu/Desktop/tensorflow-test/env/lib/python3.8/site-packages (from bokeh>=1.4.0->backtesting) (3.1.2)\r\n",
      "Requirement already satisfied: contourpy>=1 in /Users/meshu/Desktop/tensorflow-test/env/lib/python3.8/site-packages (from bokeh>=1.4.0->backtesting) (1.0.5)\r\n",
      "Requirement already satisfied: packaging>=16.8 in /Users/meshu/Desktop/tensorflow-test/env/lib/python3.8/site-packages (from bokeh>=1.4.0->backtesting) (23.1)\r\n",
      "Requirement already satisfied: pillow>=7.1.0 in /Users/meshu/Desktop/tensorflow-test/env/lib/python3.8/site-packages (from bokeh>=1.4.0->backtesting) (10.0.1)\r\n",
      "Requirement already satisfied: PyYAML>=3.10 in /Users/meshu/Desktop/tensorflow-test/env/lib/python3.8/site-packages (from bokeh>=1.4.0->backtesting) (6.0)\r\n",
      "Requirement already satisfied: tornado>=5.1 in /Users/meshu/Desktop/tensorflow-test/env/lib/python3.8/site-packages (from bokeh>=1.4.0->backtesting) (6.3.3)\r\n",
      "Requirement already satisfied: xyzservices>=2021.09.1 in /Users/meshu/Desktop/tensorflow-test/env/lib/python3.8/site-packages (from bokeh>=1.4.0->backtesting) (2024.4.0)\r\n",
      "Requirement already satisfied: python-dateutil>=2.8.2 in /Users/meshu/Desktop/tensorflow-test/env/lib/python3.8/site-packages (from pandas!=0.25.0,>=0.25.0->backtesting) (2.8.2)\r\n",
      "Requirement already satisfied: pytz>=2020.1 in /Users/meshu/Desktop/tensorflow-test/env/lib/python3.8/site-packages (from pandas!=0.25.0,>=0.25.0->backtesting) (2023.3.post1)\r\n",
      "Requirement already satisfied: tzdata>=2022.1 in /Users/meshu/Desktop/tensorflow-test/env/lib/python3.8/site-packages (from pandas!=0.25.0,>=0.25.0->backtesting) (2023.3)\r\n",
      "Requirement already satisfied: MarkupSafe>=2.0 in /Users/meshu/Desktop/tensorflow-test/env/lib/python3.8/site-packages (from Jinja2>=2.9->bokeh>=1.4.0->backtesting) (2.1.1)\r\n",
      "Requirement already satisfied: six>=1.5 in /Users/meshu/Desktop/tensorflow-test/env/lib/python3.8/site-packages (from python-dateutil>=2.8.2->pandas!=0.25.0,>=0.25.0->backtesting) (1.16.0)\r\n",
      "Requirement already satisfied: pandas_ta in /Users/meshu/Desktop/tensorflow-test/env/lib/python3.8/site-packages (0.3.14b0)\r\n",
      "Requirement already satisfied: pandas in /Users/meshu/Desktop/tensorflow-test/env/lib/python3.8/site-packages (from pandas_ta) (2.0.3)\r\n",
      "Requirement already satisfied: python-dateutil>=2.8.2 in /Users/meshu/Desktop/tensorflow-test/env/lib/python3.8/site-packages (from pandas->pandas_ta) (2.8.2)\r\n",
      "Requirement already satisfied: pytz>=2020.1 in /Users/meshu/Desktop/tensorflow-test/env/lib/python3.8/site-packages (from pandas->pandas_ta) (2023.3.post1)\r\n",
      "Requirement already satisfied: tzdata>=2022.1 in /Users/meshu/Desktop/tensorflow-test/env/lib/python3.8/site-packages (from pandas->pandas_ta) (2023.3)\r\n",
      "Requirement already satisfied: numpy>=1.20.3 in /Users/meshu/Desktop/tensorflow-test/env/lib/python3.8/site-packages (from pandas->pandas_ta) (1.22.3)\r\n",
      "Requirement already satisfied: six>=1.5 in /Users/meshu/Desktop/tensorflow-test/env/lib/python3.8/site-packages (from python-dateutil>=2.8.2->pandas->pandas_ta) (1.16.0)\r\n"
     ]
    }
   ],
   "source": [
    "!pip install backtesting\n",
    "import scipy\n",
    "from sklearn.preprocessing import StandardScaler\n",
    "import pandas as pd\n",
    "import pandas_ta as ta\n",
    "import yfinance as yahooFinance\n",
    "import datetime\n",
    "!pip install pandas_ta\n",
    "import pandas_ta as ta"
   ]
  },
  {
   "cell_type": "code",
   "outputs": [],
   "source": [
    "GetFacebookInformation = yahooFinance.Ticker(\"META\")\n",
    "startDate = datetime.datetime(2012, 5, 31)\n",
    "\n",
    "# endDate , as per our convenience we can modify\n",
    "endDate = datetime.datetime(2024, 4, 30)\n",
    "data = GetFacebookInformation.history(start=startDate,\n",
    "                                     end=endDate)"
   ],
   "metadata": {
    "collapsed": false,
    "ExecuteTime": {
     "end_time": "2024-06-08T01:52:07.442345Z",
     "start_time": "2024-06-08T01:52:07.145638Z"
    }
   },
   "id": "5e108db838ae1e00",
   "execution_count": 2
  },
  {
   "cell_type": "code",
   "outputs": [],
   "source": [],
   "metadata": {
    "collapsed": false
   },
   "id": "e11c256b9db2abea"
  }
 ],
 "metadata": {
  "kernelspec": {
   "display_name": "Python 3",
   "language": "python",
   "name": "python3"
  },
  "language_info": {
   "codemirror_mode": {
    "name": "ipython",
    "version": 2
   },
   "file_extension": ".py",
   "mimetype": "text/x-python",
   "name": "python",
   "nbconvert_exporter": "python",
   "pygments_lexer": "ipython2",
   "version": "2.7.6"
  }
 },
 "nbformat": 4,
 "nbformat_minor": 5
}
